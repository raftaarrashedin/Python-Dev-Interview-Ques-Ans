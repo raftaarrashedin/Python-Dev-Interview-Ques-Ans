{
  "nbformat": 4,
  "nbformat_minor": 0,
  "metadata": {
    "colab": {
      "provenance": [],
      "authorship_tag": "ABX9TyPVAeYme6BsWVgXlzgU6e8L",
      "include_colab_link": true
    },
    "kernelspec": {
      "name": "python3",
      "display_name": "Python 3"
    },
    "language_info": {
      "name": "python"
    }
  },
  "cells": [
    {
      "cell_type": "markdown",
      "metadata": {
        "id": "view-in-github",
        "colab_type": "text"
      },
      "source": [
        "<a href=\"https://colab.research.google.com/github/raftaarrashedin/Python-Dev-Interview-Ques-Ans/blob/main/Python_Dev_Interview_Ques_Ans.ipynb\" target=\"_parent\"><img src=\"https://colab.research.google.com/assets/colab-badge.svg\" alt=\"Open In Colab\"/></a>"
      ]
    },
    {
      "cell_type": "markdown",
      "source": [
        "# Find out common letters between two strings using python."
      ],
      "metadata": {
        "id": "7097KtwVr40Y"
      }
    },
    {
      "cell_type": "code",
      "execution_count": 1,
      "metadata": {
        "id": "9X5-9S6krABv"
      },
      "outputs": [],
      "source": [
        "def common_letters() :\n",
        "  str1 = input(\"Enter first string : \")\n",
        "  str2 = input(\"Enter second string : \")\n",
        "\n",
        "  s1 = set(str1)\n",
        "  s2 = set(str2)\n",
        "\n",
        "  com = s1 & s2\n",
        "  print(com)"
      ]
    },
    {
      "cell_type": "code",
      "source": [
        "common_letters()"
      ],
      "metadata": {
        "colab": {
          "base_uri": "https://localhost:8080/"
        },
        "id": "nDs6xC69rQUc",
        "outputId": "bb0b18fe-24b1-4dec-a2f0-5be5b6795fe8"
      },
      "execution_count": 2,
      "outputs": [
        {
          "output_type": "stream",
          "name": "stdout",
          "text": [
            "Enter first string : avc\n",
            "Enter second string : avc\n",
            "{'v', 'a', 'c'}\n"
          ]
        }
      ]
    },
    {
      "cell_type": "markdown",
      "source": [
        "# Count the frequency of words appearing in a string"
      ],
      "metadata": {
        "id": "_wx0uJD-uyR5"
      }
    },
    {
      "cell_type": "code",
      "source": [
        "def freq_words() :\n",
        "  str = input(\"Enter a long string : \")\n",
        "  li = str.split()\n",
        "\n",
        "  d = {}\n",
        "\n",
        "  for i in li :\n",
        "    if i not in d.keys() :\n",
        "      d[i] = 0\n",
        "    d[i] = d[i] + 1\n",
        "\n",
        "  print(d)"
      ],
      "metadata": {
        "id": "0Hk9zGxOrc9y"
      },
      "execution_count": 3,
      "outputs": []
    },
    {
      "cell_type": "code",
      "source": [
        "freq_words()"
      ],
      "metadata": {
        "colab": {
          "base_uri": "https://localhost:8080/"
        },
        "id": "LVK404v9t5r8",
        "outputId": "0765e37c-1337-4385-ffc7-46577a44e582"
      },
      "execution_count": 4,
      "outputs": [
        {
          "output_type": "stream",
          "name": "stdout",
          "text": [
            "Enter a long string : nsnks asdjasj dsadjall jldkla ssdlkaldk skdlaskd  saldjal\n",
            "{'nsnks': 1, 'asdjasj': 1, 'dsadjall': 1, 'jldkla': 1, 'ssdlkaldk': 1, 'skdlaskd': 1, 'saldjal': 1}\n"
          ]
        }
      ]
    },
    {
      "cell_type": "markdown",
      "source": [
        "# Conversion of two lists into Dictionary"
      ],
      "metadata": {
        "id": "IrdiXKsLwy8B"
      }
    },
    {
      "cell_type": "code",
      "source": [
        "def list_to_dict() :\n",
        "  x = [1,2,3]\n",
        "  y = [\"Hii\",\"Hello\",\"Assalam-o-alaikum\"]\n",
        "\n",
        "  result = dict(zip(x,y))\n",
        "\n",
        "  print(result)"
      ],
      "metadata": {
        "id": "a3qP005LuQIL"
      },
      "execution_count": 5,
      "outputs": []
    },
    {
      "cell_type": "code",
      "source": [
        "list_to_dict()"
      ],
      "metadata": {
        "colab": {
          "base_uri": "https://localhost:8080/"
        },
        "id": "X-j3_4mcxKBE",
        "outputId": "3fe5d3e2-049d-47d2-bc74-14ba7453c5db"
      },
      "execution_count": 6,
      "outputs": [
        {
          "output_type": "stream",
          "name": "stdout",
          "text": [
            "{1: 'Hii', 2: 'Hello', 3: 'Assalam-o-alaikum'}\n"
          ]
        }
      ]
    },
    {
      "cell_type": "markdown",
      "source": [
        "# Conversion of Dictionary to tuple"
      ],
      "metadata": {
        "id": "muNg36xOxSOk"
      }
    },
    {
      "cell_type": "code",
      "source": [
        "def dict_to_tuple() :\n",
        "  x = {1: 'Hii', 2: 'Hello', 3: 'Assalam-o-alaikum'}\n",
        "\n",
        "  for i in x.items() :\n",
        "    print(i)"
      ],
      "metadata": {
        "id": "flgyw7m-xPyP"
      },
      "execution_count": 7,
      "outputs": []
    },
    {
      "cell_type": "code",
      "source": [
        "dict_to_tuple()"
      ],
      "metadata": {
        "colab": {
          "base_uri": "https://localhost:8080/"
        },
        "id": "YK2talqVxhAX",
        "outputId": "03861216-d5bb-4df3-cf72-2dd5ab21bacf"
      },
      "execution_count": 8,
      "outputs": [
        {
          "output_type": "stream",
          "name": "stdout",
          "text": [
            "(1, 'Hii')\n",
            "(2, 'Hello')\n",
            "(3, 'Assalam-o-alaikum')\n"
          ]
        }
      ]
    },
    {
      "cell_type": "markdown",
      "source": [
        "# Find missing number in an array in python"
      ],
      "metadata": {
        "id": "Np0cV6kV1cm0"
      }
    },
    {
      "cell_type": "code",
      "source": [
        "# using summation method\n",
        "def get_missing_sum(a) :\n",
        "  n = a[-1]\n",
        "  total = (n * (n +1))//2\n",
        "  sum1 = sum(a)\n",
        "\n",
        "  print(total - sum1)\n"
      ],
      "metadata": {
        "id": "tcytgmA-xjAW"
      },
      "execution_count": 9,
      "outputs": []
    },
    {
      "cell_type": "code",
      "source": [
        "a = [1,2,4,5,6,7]\n",
        "get_missing_sum(a)"
      ],
      "metadata": {
        "colab": {
          "base_uri": "https://localhost:8080/"
        },
        "id": "M4GDDp3E14iS",
        "outputId": "d573aaa2-1b99-4ad2-ca93-dafed798c9f4"
      },
      "execution_count": 10,
      "outputs": [
        {
          "output_type": "stream",
          "name": "stdout",
          "text": [
            "3\n"
          ]
        }
      ]
    },
    {
      "cell_type": "code",
      "source": [
        "# using xor method\n",
        "\n",
        "def get_missing_xor(a) :\n",
        "  n = len(a)\n",
        "  xor_a = a[0]\n",
        "\n",
        "  for index in range(1,n) :\n",
        "    xor_a = xor_a ^ a[index]\n",
        "\n",
        "  x2 = 0\n",
        "  for index in range(1, n+2) :\n",
        "    x2 = x2^index\n",
        "\n",
        "  print(xor_a^x2)"
      ],
      "metadata": {
        "id": "PNJUeTba18mx"
      },
      "execution_count": 11,
      "outputs": []
    },
    {
      "cell_type": "code",
      "source": [
        "a = [1,2,4,5,6,7]\n",
        "get_missing_xor(a)"
      ],
      "metadata": {
        "id": "gSurHlu03vDL",
        "outputId": "b2004370-dee8-4b38-9174-cfa3dfa5e7ae",
        "colab": {
          "base_uri": "https://localhost:8080/"
        }
      },
      "execution_count": 12,
      "outputs": [
        {
          "output_type": "stream",
          "name": "stdout",
          "text": [
            "3\n"
          ]
        }
      ]
    },
    {
      "cell_type": "markdown",
      "source": [
        "# Find out pairs with given sum in an array in python"
      ],
      "metadata": {
        "id": "0RVsKp795QaT"
      }
    },
    {
      "cell_type": "code",
      "source": [
        "def two_sum(arr,sum) :\n",
        "  arr.sort()\n",
        "\n",
        "  left = 0\n",
        "  right = len(arr) - 1\n",
        "\n",
        "  while(left <= right) :\n",
        "    if((arr[right]+arr[left]) > sum ) :\n",
        "      right = right - 1\n",
        "    elif((arr[right]+arr[left]) < sum) :\n",
        "      left = left + 1\n",
        "    elif((arr[right]+arr[left]) == sum) :\n",
        "      print(\"Values of pair are : \",arr[left],\" & \", arr[right])\n",
        "      right = right -1\n",
        "      left = left + 1"
      ],
      "metadata": {
        "id": "1PN5o1-u3zNV"
      },
      "execution_count": 14,
      "outputs": []
    },
    {
      "cell_type": "code",
      "source": [
        "arr = [1,2,3,4,5,6,7,8,9,10]\n",
        "sum = 17\n",
        "two_sum(arr,sum)"
      ],
      "metadata": {
        "colab": {
          "base_uri": "https://localhost:8080/"
        },
        "id": "RFVh0zjz58UB",
        "outputId": "f012707a-5c8d-471c-c2bb-b989b560216c"
      },
      "execution_count": 15,
      "outputs": [
        {
          "output_type": "stream",
          "name": "stdout",
          "text": [
            "Values of pair are :  7  &  10\n",
            "Values of pair are :  8  &  9\n"
          ]
        }
      ]
    },
    {
      "cell_type": "code",
      "source": [],
      "metadata": {
        "id": "7djg-WJN6Dz_"
      },
      "execution_count": null,
      "outputs": []
    }
  ]
}